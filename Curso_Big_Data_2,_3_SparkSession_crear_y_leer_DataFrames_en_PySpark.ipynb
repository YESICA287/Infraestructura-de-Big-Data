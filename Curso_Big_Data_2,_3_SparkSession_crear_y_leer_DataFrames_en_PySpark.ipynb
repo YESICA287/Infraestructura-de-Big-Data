{
  "cells": [
    {
      "cell_type": "markdown",
      "metadata": {
        "id": "view-in-github",
        "colab_type": "text"
      },
      "source": [
        "<a href=\"https://colab.research.google.com/github/YESICA287/Infraestructura-de-Big-Data/blob/main/Curso_Big_Data_2%2C_3_SparkSession_crear_y_leer_DataFrames_en_PySpark.ipynb\" target=\"_parent\"><img src=\"https://colab.research.google.com/assets/colab-badge.svg\" alt=\"Open In Colab\"/></a>"
      ]
    },
    {
      "cell_type": "markdown",
      "metadata": {
        "id": "t39Ud4FngOYH"
      },
      "source": [
        "# Curso Big Data #2 - SparkSession crear y leer DataFrames en PySpark"
      ]
    },
    {
      "cell_type": "markdown",
      "metadata": {
        "id": "1HPkd1pSgOYI"
      },
      "source": [
        "# Librerías"
      ]
    },
    {
      "cell_type": "code",
      "source": [
        "!pip install findspark\n",
        "!pip install pyspark"
      ],
      "metadata": {
        "colab": {
          "base_uri": "https://localhost:8080/"
        },
        "id": "eyO9ovRegcet",
        "outputId": "0e9bbc20-5cda-49de-ebe6-192b2bf1d38c"
      },
      "execution_count": 1,
      "outputs": [
        {
          "output_type": "stream",
          "name": "stdout",
          "text": [
            "Collecting findspark\n",
            "  Downloading findspark-2.0.1-py2.py3-none-any.whl (4.4 kB)\n",
            "Installing collected packages: findspark\n",
            "Successfully installed findspark-2.0.1\n",
            "Collecting pyspark\n",
            "  Downloading pyspark-3.5.0.tar.gz (316.9 MB)\n",
            "\u001b[2K     \u001b[90m━━━━━━━━━━━━━━━━━━━━━━━━━━━━━━━━━━━━━━━━\u001b[0m \u001b[32m316.9/316.9 MB\u001b[0m \u001b[31m2.8 MB/s\u001b[0m eta \u001b[36m0:00:00\u001b[0m\n",
            "\u001b[?25h  Preparing metadata (setup.py) ... \u001b[?25l\u001b[?25hdone\n",
            "Requirement already satisfied: py4j==0.10.9.7 in /usr/local/lib/python3.10/dist-packages (from pyspark) (0.10.9.7)\n",
            "Building wheels for collected packages: pyspark\n",
            "  Building wheel for pyspark (setup.py) ... \u001b[?25l\u001b[?25hdone\n",
            "  Created wheel for pyspark: filename=pyspark-3.5.0-py2.py3-none-any.whl size=317425344 sha256=d73cadddb024cc7ada7917866f2d8fc4cb741b6937ae0567cace7af905589a18\n",
            "  Stored in directory: /root/.cache/pip/wheels/41/4e/10/c2cf2467f71c678cfc8a6b9ac9241e5e44a01940da8fbb17fc\n",
            "Successfully built pyspark\n",
            "Installing collected packages: pyspark\n",
            "Successfully installed pyspark-3.5.0\n"
          ]
        }
      ]
    },
    {
      "cell_type": "code",
      "execution_count": 2,
      "metadata": {
        "id": "lqAixv28gOYJ"
      },
      "outputs": [],
      "source": [
        "import findspark\n",
        "findspark.init()"
      ]
    },
    {
      "cell_type": "code",
      "execution_count": 3,
      "metadata": {
        "id": "ed_VMcpFgOYJ"
      },
      "outputs": [],
      "source": [
        "from pyspark.sql import SparkSession"
      ]
    },
    {
      "cell_type": "markdown",
      "metadata": {
        "id": "lCUMR8pGgOYK"
      },
      "source": [
        "## SparkSession\n",
        "\n",
        "La *SparkSession*, introducida en la versión Spark 2.0, es un punto de entrada a las funcionalidades de Spark. El objeto SparkSession de spark está disponible de forma predeterminada en spark-shell, tecleando en un terminal de nuestro pc **pyspark**:\n",
        "\n",
        "```bash\n",
        "C:\\Users\\errodringer\\suscribete>pyspark\n",
        "```\n",
        "\n",
        "en la variable **spark**:\n",
        "\n",
        "![spark-shell](images/spark-shell.PNG \"Spark-Shell\")  \n",
        "\n",
        "Aunque *SparkContext* solía ser el punto de entrada antes de la versión 2.0 de Spark, no se reemplaza completamente con SparkSession, muchas características de SparkContext todavía están disponibles y se usan en Spark 2.0 y versiones posteriores. La SparkSession crea internamente SparkConfig y SparkContext con la configuración proporcionada."
      ]
    },
    {
      "cell_type": "markdown",
      "metadata": {
        "id": "qXCUdF7sgOYL"
      },
      "source": [
        "### 1. Crear la SparkSession"
      ]
    },
    {
      "cell_type": "code",
      "execution_count": 4,
      "metadata": {
        "id": "9qQlMRf7gOYL"
      },
      "outputs": [],
      "source": [
        "spark = SparkSession.builder.appName('firstSession')\\\n",
        "    .config('spark.master', 'local[4]')\\\n",
        "    .config('spark.executor.memory', '1g')\\\n",
        "    .config(\"spark.sql.shuffle.partitions\", 1)\\\n",
        "    .config('spark.driver.memory','1g')\\\n",
        "    .getOrCreate()"
      ]
    },
    {
      "cell_type": "markdown",
      "metadata": {
        "id": "-pW5uDMMgOYL"
      },
      "source": [
        "Todas las condifuraciones disponibles en Spark:\n",
        "\n",
        "https://spark.apache.org/docs/latest/configuration.html"
      ]
    },
    {
      "cell_type": "code",
      "execution_count": 5,
      "metadata": {
        "colab": {
          "base_uri": "https://localhost:8080/",
          "height": 221
        },
        "id": "RAEB360fgOYM",
        "outputId": "cca47114-dc82-4b41-d26c-9e6e5cc9a85c"
      },
      "outputs": [
        {
          "output_type": "execute_result",
          "data": {
            "text/plain": [
              "<pyspark.sql.session.SparkSession at 0x7e989df08b80>"
            ],
            "text/html": [
              "\n",
              "            <div>\n",
              "                <p><b>SparkSession - in-memory</b></p>\n",
              "                \n",
              "        <div>\n",
              "            <p><b>SparkContext</b></p>\n",
              "\n",
              "            <p><a href=\"http://edd26e94a779:4040\">Spark UI</a></p>\n",
              "\n",
              "            <dl>\n",
              "              <dt>Version</dt>\n",
              "                <dd><code>v3.5.0</code></dd>\n",
              "              <dt>Master</dt>\n",
              "                <dd><code>local[4]</code></dd>\n",
              "              <dt>AppName</dt>\n",
              "                <dd><code>firstSession</code></dd>\n",
              "            </dl>\n",
              "        </div>\n",
              "        \n",
              "            </div>\n",
              "        "
            ]
          },
          "metadata": {},
          "execution_count": 5
        }
      ],
      "source": [
        "spark"
      ]
    },
    {
      "cell_type": "markdown",
      "metadata": {
        "id": "gHSN02iHgOYN"
      },
      "source": [
        "Se puede obtener y cambiar la configuración inicial dada"
      ]
    },
    {
      "cell_type": "code",
      "execution_count": 6,
      "metadata": {
        "colab": {
          "base_uri": "https://localhost:8080/",
          "height": 35
        },
        "id": "Ye8VGn_FgOYN",
        "outputId": "73c3cb7c-ee8d-4be7-b794-57664c4bb90d"
      },
      "outputs": [
        {
          "output_type": "execute_result",
          "data": {
            "text/plain": [
              "'1'"
            ],
            "application/vnd.google.colaboratory.intrinsic+json": {
              "type": "string"
            }
          },
          "metadata": {},
          "execution_count": 6
        }
      ],
      "source": [
        "spark.conf.get('spark.sql.shuffle.partitions')"
      ]
    },
    {
      "cell_type": "code",
      "execution_count": 7,
      "metadata": {
        "id": "bP-bHm_JgOYO"
      },
      "outputs": [],
      "source": [
        "spark.conf.set(\"spark.sql.shuffle.partitions\", 2)"
      ]
    },
    {
      "cell_type": "code",
      "execution_count": 8,
      "metadata": {
        "colab": {
          "base_uri": "https://localhost:8080/",
          "height": 35
        },
        "id": "ns3G8efKgOYO",
        "outputId": "b52cde06-c528-4c79-f696-11c60f5dc0bc"
      },
      "outputs": [
        {
          "output_type": "execute_result",
          "data": {
            "text/plain": [
              "'2'"
            ],
            "application/vnd.google.colaboratory.intrinsic+json": {
              "type": "string"
            }
          },
          "metadata": {},
          "execution_count": 8
        }
      ],
      "source": [
        "spark.conf.get('spark.sql.shuffle.partitions')"
      ]
    },
    {
      "cell_type": "code",
      "execution_count": 9,
      "metadata": {
        "colab": {
          "base_uri": "https://localhost:8080/"
        },
        "id": "dowPQcUOgOYO",
        "outputId": "06c77fd3-8c9e-4bf9-832e-3a3f18e75fb4"
      },
      "outputs": [
        {
          "output_type": "execute_result",
          "data": {
            "text/plain": [
              "[('spark.sql.shuffle.partitions', '1'),\n",
              " ('spark.app.name', 'firstSession'),\n",
              " ('spark.master', 'local[4]'),\n",
              " ('spark.app.submitTime', '1701203810727'),\n",
              " ('spark.executor.id', 'driver'),\n",
              " ('spark.sql.warehouse.dir', 'file:/content/spark-warehouse'),\n",
              " ('spark.driver.host', 'edd26e94a779'),\n",
              " ('spark.app.id', 'local-1701203812658'),\n",
              " ('spark.driver.memory', '1g'),\n",
              " ('spark.app.startTime', '1701203810957'),\n",
              " ('spark.driver.extraJavaOptions',\n",
              "  '-Djava.net.preferIPv6Addresses=false -XX:+IgnoreUnrecognizedVMOptions --add-opens=java.base/java.lang=ALL-UNNAMED --add-opens=java.base/java.lang.invoke=ALL-UNNAMED --add-opens=java.base/java.lang.reflect=ALL-UNNAMED --add-opens=java.base/java.io=ALL-UNNAMED --add-opens=java.base/java.net=ALL-UNNAMED --add-opens=java.base/java.nio=ALL-UNNAMED --add-opens=java.base/java.util=ALL-UNNAMED --add-opens=java.base/java.util.concurrent=ALL-UNNAMED --add-opens=java.base/java.util.concurrent.atomic=ALL-UNNAMED --add-opens=java.base/sun.nio.ch=ALL-UNNAMED --add-opens=java.base/sun.nio.cs=ALL-UNNAMED --add-opens=java.base/sun.security.action=ALL-UNNAMED --add-opens=java.base/sun.util.calendar=ALL-UNNAMED --add-opens=java.security.jgss/sun.security.krb5=ALL-UNNAMED -Djdk.reflect.useDirectMethodHandle=false'),\n",
              " ('spark.executor.memory', '1g'),\n",
              " ('spark.rdd.compress', 'True'),\n",
              " ('spark.serializer.objectStreamReset', '100'),\n",
              " ('spark.driver.port', '33131'),\n",
              " ('spark.submit.pyFiles', ''),\n",
              " ('spark.submit.deployMode', 'client'),\n",
              " ('spark.ui.showConsoleProgress', 'true'),\n",
              " ('spark.executor.extraJavaOptions',\n",
              "  '-Djava.net.preferIPv6Addresses=false -XX:+IgnoreUnrecognizedVMOptions --add-opens=java.base/java.lang=ALL-UNNAMED --add-opens=java.base/java.lang.invoke=ALL-UNNAMED --add-opens=java.base/java.lang.reflect=ALL-UNNAMED --add-opens=java.base/java.io=ALL-UNNAMED --add-opens=java.base/java.net=ALL-UNNAMED --add-opens=java.base/java.nio=ALL-UNNAMED --add-opens=java.base/java.util=ALL-UNNAMED --add-opens=java.base/java.util.concurrent=ALL-UNNAMED --add-opens=java.base/java.util.concurrent.atomic=ALL-UNNAMED --add-opens=java.base/sun.nio.ch=ALL-UNNAMED --add-opens=java.base/sun.nio.cs=ALL-UNNAMED --add-opens=java.base/sun.security.action=ALL-UNNAMED --add-opens=java.base/sun.util.calendar=ALL-UNNAMED --add-opens=java.security.jgss/sun.security.krb5=ALL-UNNAMED -Djdk.reflect.useDirectMethodHandle=false')]"
            ]
          },
          "metadata": {},
          "execution_count": 9
        }
      ],
      "source": [
        "spark.sparkContext.getConf().getAll()"
      ]
    },
    {
      "cell_type": "markdown",
      "metadata": {
        "id": "IhpXGWuOgOYP"
      },
      "source": [
        "Con el comando:\n",
        "\n",
        "```python\n",
        "spark.stop()\n",
        "```\n",
        "\n",
        "detenemos la aplicación."
      ]
    },
    {
      "cell_type": "code",
      "execution_count": 10,
      "metadata": {
        "id": "Qioj1d9JgOYP"
      },
      "outputs": [],
      "source": [
        "# spark.stop()"
      ]
    },
    {
      "cell_type": "markdown",
      "metadata": {
        "id": "LZWOwYutgOYP"
      },
      "source": [
        "### 2. Crear tabla"
      ]
    },
    {
      "cell_type": "markdown",
      "metadata": {
        "id": "N7IFnjiOgOYQ"
      },
      "source": [
        "### 2.1 A partir de una lista"
      ]
    },
    {
      "cell_type": "code",
      "execution_count": 11,
      "metadata": {
        "colab": {
          "base_uri": "https://localhost:8080/"
        },
        "id": "M7KogTObgOYQ",
        "outputId": "9ae75249-b27f-44b5-fc60-a77fec82f9e3"
      },
      "outputs": [
        {
          "output_type": "execute_result",
          "data": {
            "text/plain": [
              "[(1, 'Errodringer', 'a'),\n",
              " (2, 'Paco', 'b'),\n",
              " (3, 'Hola', 'c'),\n",
              " (4, 'Adios', 'd')]"
            ]
          },
          "metadata": {},
          "execution_count": 11
        }
      ],
      "source": [
        "columnas = [\"id\", \"nombre\", \"l\"]\n",
        "lista = [(1, \"Errodringer\", \"a\"), (2, \"Paco\", \"b\"), (3, \"Hola\", \"c\"), (4, \"Adios\", \"d\")]\n",
        "lista"
      ]
    },
    {
      "cell_type": "code",
      "execution_count": 12,
      "metadata": {
        "id": "EQUxZ9hpgOYQ"
      },
      "outputs": [],
      "source": [
        "df_1 = spark.createDataFrame(lista, schema=columnas)"
      ]
    },
    {
      "cell_type": "markdown",
      "metadata": {
        "id": "1C_LBnQegOYQ"
      },
      "source": [
        "Número total de registros (filas)"
      ]
    },
    {
      "cell_type": "code",
      "execution_count": 13,
      "metadata": {
        "colab": {
          "base_uri": "https://localhost:8080/"
        },
        "id": "n-nAcUxOgOYR",
        "outputId": "6208b3fa-4395-446c-a82e-76a395ffa461"
      },
      "outputs": [
        {
          "output_type": "execute_result",
          "data": {
            "text/plain": [
              "4"
            ]
          },
          "metadata": {},
          "execution_count": 13
        }
      ],
      "source": [
        "df_1.count()"
      ]
    },
    {
      "cell_type": "markdown",
      "metadata": {
        "id": "D1-LpP1BgOYR"
      },
      "source": [
        "Mostramos *n* registros, indicando este parámetro como entrada en la función:\n",
        "\n",
        "```\n",
        "show(n)\n",
        "```"
      ]
    },
    {
      "cell_type": "code",
      "execution_count": 14,
      "metadata": {
        "colab": {
          "base_uri": "https://localhost:8080/"
        },
        "id": "bo650HzsgOYR",
        "outputId": "5e003354-6797-4735-a7e9-08cfa84f42eb"
      },
      "outputs": [
        {
          "output_type": "stream",
          "name": "stdout",
          "text": [
            "+---+-----------+---+\n",
            "| id|     nombre|  l|\n",
            "+---+-----------+---+\n",
            "|  1|Errodringer|  a|\n",
            "|  2|       Paco|  b|\n",
            "+---+-----------+---+\n",
            "only showing top 2 rows\n",
            "\n"
          ]
        }
      ],
      "source": [
        "df_1.show(2)"
      ]
    },
    {
      "cell_type": "markdown",
      "metadata": {
        "id": "GmJI400HgOYS"
      },
      "source": [
        "Columnas del DataFrame"
      ]
    },
    {
      "cell_type": "code",
      "execution_count": 15,
      "metadata": {
        "colab": {
          "base_uri": "https://localhost:8080/"
        },
        "id": "MkSzk5JhgOYS",
        "outputId": "72d01c80-64b1-45bb-c302-41ea853dbdd5"
      },
      "outputs": [
        {
          "output_type": "execute_result",
          "data": {
            "text/plain": [
              "['id', 'nombre', 'l']"
            ]
          },
          "metadata": {},
          "execution_count": 15
        }
      ],
      "source": [
        "df_1.columns"
      ]
    },
    {
      "cell_type": "markdown",
      "metadata": {
        "id": "leurp_WxgOYS"
      },
      "source": [
        "Schema del DataFrame"
      ]
    },
    {
      "cell_type": "code",
      "execution_count": 16,
      "metadata": {
        "colab": {
          "base_uri": "https://localhost:8080/"
        },
        "id": "9uiDML_RgOYT",
        "outputId": "fac399a1-b451-4035-8914-0efc1260d7fe"
      },
      "outputs": [
        {
          "output_type": "stream",
          "name": "stdout",
          "text": [
            "root\n",
            " |-- id: long (nullable = true)\n",
            " |-- nombre: string (nullable = true)\n",
            " |-- l: string (nullable = true)\n",
            "\n"
          ]
        }
      ],
      "source": [
        "df_1.printSchema()"
      ]
    },
    {
      "cell_type": "markdown",
      "metadata": {
        "id": "A6Wvi_OngOYT"
      },
      "source": [
        "Resumen del DF"
      ]
    },
    {
      "cell_type": "code",
      "execution_count": 17,
      "metadata": {
        "colab": {
          "base_uri": "https://localhost:8080/"
        },
        "id": "u5UH7R9NgOYT",
        "outputId": "99df1ba0-0591-4571-ee33-886e020b5884"
      },
      "outputs": [
        {
          "output_type": "stream",
          "name": "stdout",
          "text": [
            "+-------+------------------+------+----+\n",
            "|summary|                id|nombre|   l|\n",
            "+-------+------------------+------+----+\n",
            "|  count|                 4|     4|   4|\n",
            "|   mean|               2.5|  NULL|NULL|\n",
            "| stddev|1.2909944487358056|  NULL|NULL|\n",
            "|    min|                 1| Adios|   a|\n",
            "|    max|                 4|  Paco|   d|\n",
            "+-------+------------------+------+----+\n",
            "\n"
          ]
        }
      ],
      "source": [
        "df_1.describe().show()"
      ]
    },
    {
      "cell_type": "code",
      "execution_count": 18,
      "metadata": {
        "id": "d4PzluTRgOYU"
      },
      "outputs": [],
      "source": [
        "from pyspark.sql.types import StructType, StructField, IntegerType, StringType\n",
        "\n",
        "schema_1 = StructType([\n",
        "    StructField(\"id\", IntegerType(), True),\n",
        "    StructField(\"name\", StringType(), True),\n",
        "    StructField(\"l\", StringType(), True)])\n",
        "\n",
        "df_11 = spark.createDataFrame(lista, schema=schema_1)"
      ]
    },
    {
      "cell_type": "code",
      "execution_count": 19,
      "metadata": {
        "colab": {
          "base_uri": "https://localhost:8080/"
        },
        "id": "V8nR40NpgOYV",
        "outputId": "d46b6486-277f-472f-aff6-aa8a720043c8"
      },
      "outputs": [
        {
          "output_type": "stream",
          "name": "stdout",
          "text": [
            "root\n",
            " |-- id: integer (nullable = true)\n",
            " |-- name: string (nullable = true)\n",
            " |-- l: string (nullable = true)\n",
            "\n"
          ]
        }
      ],
      "source": [
        "df_11.printSchema()"
      ]
    },
    {
      "cell_type": "code",
      "execution_count": 20,
      "metadata": {
        "scrolled": true,
        "colab": {
          "base_uri": "https://localhost:8080/"
        },
        "id": "BhxDevNkgOYW",
        "outputId": "d6707465-6d6a-42b8-8021-014cc708701c"
      },
      "outputs": [
        {
          "output_type": "stream",
          "name": "stdout",
          "text": [
            "+---+-----------+---+\n",
            "| id|       name|  l|\n",
            "+---+-----------+---+\n",
            "|  1|Errodringer|  a|\n",
            "|  2|       Paco|  b|\n",
            "|  3|       Hola|  c|\n",
            "|  4|      Adios|  d|\n",
            "+---+-----------+---+\n",
            "\n"
          ]
        }
      ],
      "source": [
        "df_11.show()"
      ]
    },
    {
      "cell_type": "markdown",
      "metadata": {
        "id": "wE6cg0d2gOYX"
      },
      "source": [
        "### 2.2 A partir de un csv"
      ]
    },
    {
      "cell_type": "code",
      "source": [
        "from google.colab import drive\n",
        "drive.mount('/content/drive')"
      ],
      "metadata": {
        "colab": {
          "base_uri": "https://localhost:8080/"
        },
        "id": "9uGJtXjyiJxu",
        "outputId": "4ee33d2a-46dd-40f2-f2f6-9df20b2b5afc"
      },
      "execution_count": 21,
      "outputs": [
        {
          "output_type": "stream",
          "name": "stdout",
          "text": [
            "Mounted at /content/drive\n"
          ]
        }
      ]
    },
    {
      "cell_type": "code",
      "execution_count": 22,
      "metadata": {
        "id": "VCQtddKvgOYX"
      },
      "outputs": [],
      "source": [
        "df = spark.read.csv('/content/drive/MyDrive/Big data Spark/business.csv', sep=',', header=True)"
      ]
    },
    {
      "cell_type": "code",
      "execution_count": 23,
      "metadata": {
        "scrolled": true,
        "colab": {
          "base_uri": "https://localhost:8080/"
        },
        "id": "ikAkmdNSgOYX",
        "outputId": "eea5fa72-ab23-4ab7-e7b8-93e563aad6f2"
      },
      "outputs": [
        {
          "output_type": "stream",
          "name": "stdout",
          "text": [
            "+----------------+-------+----------+----------+------+-------+---------+--------------------+--------------------+--------------------+--------------------+--------------+--------------+--------------+\n",
            "|Series_reference| Period|Data_value|Suppressed|STATUS|  UNITS|Magnitude|             Subject|               Group|      Series_title_1|      Series_title_2|Series_title_3|Series_title_4|Series_title_5|\n",
            "+----------------+-------+----------+----------+------+-------+---------+--------------------+--------------------+--------------------+--------------------+--------------+--------------+--------------+\n",
            "|   BDCQ.SF1AA2CA|2016.06|  1116.386|      NULL|     F|Dollars|        6|Business Data Col...|Industry by finan...|Sales (operating ...|Forestry and Logging|Current prices|    Unadjusted|          NULL|\n",
            "|   BDCQ.SF1AA2CA|2016.09|  1070.874|      NULL|     F|Dollars|        6|Business Data Col...|Industry by finan...|Sales (operating ...|Forestry and Logging|Current prices|    Unadjusted|          NULL|\n",
            "|   BDCQ.SF1AA2CA|2016.12|  1054.408|      NULL|     F|Dollars|        6|Business Data Col...|Industry by finan...|Sales (operating ...|Forestry and Logging|Current prices|    Unadjusted|          NULL|\n",
            "|   BDCQ.SF1AA2CA|2017.03|  1010.665|      NULL|     F|Dollars|        6|Business Data Col...|Industry by finan...|Sales (operating ...|Forestry and Logging|Current prices|    Unadjusted|          NULL|\n",
            "|   BDCQ.SF1AA2CA|2017.06|    1233.7|      NULL|     F|Dollars|        6|Business Data Col...|Industry by finan...|Sales (operating ...|Forestry and Logging|Current prices|    Unadjusted|          NULL|\n",
            "+----------------+-------+----------+----------+------+-------+---------+--------------------+--------------------+--------------------+--------------------+--------------+--------------+--------------+\n",
            "only showing top 5 rows\n",
            "\n"
          ]
        }
      ],
      "source": [
        "df.show(5)"
      ]
    },
    {
      "cell_type": "code",
      "execution_count": 24,
      "metadata": {
        "scrolled": true,
        "colab": {
          "base_uri": "https://localhost:8080/"
        },
        "id": "khNCI9jKgOYX",
        "outputId": "7ea4d4a0-c850-4520-ed7b-b7dd3eff6f58"
      },
      "outputs": [
        {
          "output_type": "stream",
          "name": "stdout",
          "text": [
            "+----------------+-------+----------+----------+------+-------+---------+------------------------------+------------------------------+------------------------+--------------------+--------------+--------------+--------------+\n",
            "|Series_reference|Period |Data_value|Suppressed|STATUS|UNITS  |Magnitude|Subject                       |Group                         |Series_title_1          |Series_title_2      |Series_title_3|Series_title_4|Series_title_5|\n",
            "+----------------+-------+----------+----------+------+-------+---------+------------------------------+------------------------------+------------------------+--------------------+--------------+--------------+--------------+\n",
            "|BDCQ.SF1AA2CA   |2016.06|1116.386  |NULL      |F     |Dollars|6        |Business Data Collection - BDC|Industry by financial variable|Sales (operating income)|Forestry and Logging|Current prices|Unadjusted    |NULL          |\n",
            "|BDCQ.SF1AA2CA   |2016.09|1070.874  |NULL      |F     |Dollars|6        |Business Data Collection - BDC|Industry by financial variable|Sales (operating income)|Forestry and Logging|Current prices|Unadjusted    |NULL          |\n",
            "|BDCQ.SF1AA2CA   |2016.12|1054.408  |NULL      |F     |Dollars|6        |Business Data Collection - BDC|Industry by financial variable|Sales (operating income)|Forestry and Logging|Current prices|Unadjusted    |NULL          |\n",
            "|BDCQ.SF1AA2CA   |2017.03|1010.665  |NULL      |F     |Dollars|6        |Business Data Collection - BDC|Industry by financial variable|Sales (operating income)|Forestry and Logging|Current prices|Unadjusted    |NULL          |\n",
            "|BDCQ.SF1AA2CA   |2017.06|1233.7    |NULL      |F     |Dollars|6        |Business Data Collection - BDC|Industry by financial variable|Sales (operating income)|Forestry and Logging|Current prices|Unadjusted    |NULL          |\n",
            "+----------------+-------+----------+----------+------+-------+---------+------------------------------+------------------------------+------------------------+--------------------+--------------+--------------+--------------+\n",
            "only showing top 5 rows\n",
            "\n"
          ]
        }
      ],
      "source": [
        "df.show(5, truncate=False)"
      ]
    },
    {
      "cell_type": "code",
      "execution_count": 25,
      "metadata": {
        "scrolled": true,
        "colab": {
          "base_uri": "https://localhost:8080/"
        },
        "id": "6akdlXjggOYY",
        "outputId": "94302d02-3621-40e4-bb9a-f98c9f79b1a4"
      },
      "outputs": [
        {
          "output_type": "stream",
          "name": "stdout",
          "text": [
            "root\n",
            " |-- Series_reference: string (nullable = true)\n",
            " |-- Period: string (nullable = true)\n",
            " |-- Data_value: string (nullable = true)\n",
            " |-- Suppressed: string (nullable = true)\n",
            " |-- STATUS: string (nullable = true)\n",
            " |-- UNITS: string (nullable = true)\n",
            " |-- Magnitude: string (nullable = true)\n",
            " |-- Subject: string (nullable = true)\n",
            " |-- Group: string (nullable = true)\n",
            " |-- Series_title_1: string (nullable = true)\n",
            " |-- Series_title_2: string (nullable = true)\n",
            " |-- Series_title_3: string (nullable = true)\n",
            " |-- Series_title_4: string (nullable = true)\n",
            " |-- Series_title_5: string (nullable = true)\n",
            "\n"
          ]
        }
      ],
      "source": [
        "df.printSchema()"
      ]
    },
    {
      "cell_type": "code",
      "execution_count": 26,
      "metadata": {
        "colab": {
          "base_uri": "https://localhost:8080/"
        },
        "id": "9dn0kMFGgOYY",
        "outputId": "b2270fbe-c8f6-4bb7-8c07-64427318c5a8"
      },
      "outputs": [
        {
          "output_type": "execute_result",
          "data": {
            "text/plain": [
              "1936"
            ]
          },
          "metadata": {},
          "execution_count": 26
        }
      ],
      "source": [
        "df.count()"
      ]
    },
    {
      "cell_type": "markdown",
      "metadata": {
        "id": "TSbA8NXPgOYY"
      },
      "source": [
        "Escritura de un DataFrame. En este caso a ficheros tipo *parquet*, un formato de fichero optimizado para trabajar en entornos big data con grandes volumenes de datos."
      ]
    },
    {
      "cell_type": "code",
      "execution_count": 27,
      "metadata": {
        "id": "F3akgNTOgOYY"
      },
      "outputs": [],
      "source": [
        "df.write.parquet(\"parquet_example\", mode='overwrite')"
      ]
    },
    {
      "cell_type": "markdown",
      "metadata": {
        "id": "gtSqKiRCgOYZ"
      },
      "source": [
        "Se ha escrito en un único fichero porque el dataframe lo tenemos en una sola partición."
      ]
    },
    {
      "cell_type": "markdown",
      "metadata": {
        "id": "v0iqa1ftgOYZ"
      },
      "source": [
        "### 2.3 A partir de un parquet"
      ]
    },
    {
      "cell_type": "code",
      "execution_count": 28,
      "metadata": {
        "id": "WvrKe69ZgOYZ"
      },
      "outputs": [],
      "source": [
        "df_p = spark.read.parquet('parquet_example')"
      ]
    },
    {
      "cell_type": "code",
      "execution_count": 29,
      "metadata": {
        "colab": {
          "base_uri": "https://localhost:8080/"
        },
        "id": "-Bhk7gQRgOYZ",
        "outputId": "6c16713d-57a7-43ba-ca50-9e7b469d3857"
      },
      "outputs": [
        {
          "output_type": "execute_result",
          "data": {
            "text/plain": [
              "1936"
            ]
          },
          "metadata": {},
          "execution_count": 29
        }
      ],
      "source": [
        "df_p.count()"
      ]
    },
    {
      "cell_type": "code",
      "execution_count": 30,
      "metadata": {
        "colab": {
          "base_uri": "https://localhost:8080/"
        },
        "id": "X3VIT2NygOYZ",
        "outputId": "ffc16575-a1aa-4987-cd8e-b2ca8b5688d1"
      },
      "outputs": [
        {
          "output_type": "stream",
          "name": "stdout",
          "text": [
            "+----------------+-------+----------+----------+------+-------+---------+--------------------+--------------------+--------------------+--------------------+--------------+--------------+--------------+\n",
            "|Series_reference| Period|Data_value|Suppressed|STATUS|  UNITS|Magnitude|             Subject|               Group|      Series_title_1|      Series_title_2|Series_title_3|Series_title_4|Series_title_5|\n",
            "+----------------+-------+----------+----------+------+-------+---------+--------------------+--------------------+--------------------+--------------------+--------------+--------------+--------------+\n",
            "|   BDCQ.SF1AA2CA|2016.06|  1116.386|      NULL|     F|Dollars|        6|Business Data Col...|Industry by finan...|Sales (operating ...|Forestry and Logging|Current prices|    Unadjusted|          NULL|\n",
            "|   BDCQ.SF1AA2CA|2016.09|  1070.874|      NULL|     F|Dollars|        6|Business Data Col...|Industry by finan...|Sales (operating ...|Forestry and Logging|Current prices|    Unadjusted|          NULL|\n",
            "+----------------+-------+----------+----------+------+-------+---------+--------------------+--------------------+--------------------+--------------------+--------------+--------------+--------------+\n",
            "only showing top 2 rows\n",
            "\n"
          ]
        }
      ],
      "source": [
        "df_p.show(2)"
      ]
    },
    {
      "cell_type": "code",
      "execution_count": 31,
      "metadata": {
        "colab": {
          "base_uri": "https://localhost:8080/"
        },
        "id": "vLYJlrvGgOYa",
        "outputId": "ebb93cc4-3062-4b29-a2e7-ef75dd404a67"
      },
      "outputs": [
        {
          "output_type": "stream",
          "name": "stdout",
          "text": [
            "+-------+----------------+------------------+------------------+----------+------+-------+---------+--------------------+--------------------+--------------------+--------------------+--------------+--------------+--------------+\n",
            "|summary|Series_reference|            Period|        Data_value|Suppressed|STATUS|  UNITS|Magnitude|             Subject|               Group|      Series_title_1|      Series_title_2|Series_title_3|Series_title_4|Series_title_5|\n",
            "+-------+----------------+------------------+------------------+----------+------+-------+---------+--------------------+--------------------+--------------------+--------------------+--------------+--------------+--------------+\n",
            "|  count|            1936|              1936|              1936|         0|  1936|   1936|     1936|                1936|                1936|                1936|                1936|          1936|          1936|             0|\n",
            "|   mean|            NULL| 2018.217975206615|2704.3055568181853|      NULL|  NULL|   NULL|      6.0|                NULL|                NULL|                NULL|                NULL|          NULL|          NULL|          NULL|\n",
            "| stddev|            NULL|1.3594869192539778| 4630.441460229322|      NULL|  NULL|   NULL|      0.0|                NULL|                NULL|                NULL|                NULL|          NULL|          NULL|          NULL|\n",
            "|    min|   BDCQ.SF1AA2CA|           2016.06|          -398.194|      NULL|     F|Dollars|        6|Business Data Col...|Industry by finan...|    Operating profit|Accommodation and...|Current prices|    Unadjusted|          NULL|\n",
            "|    max|   BDCQ.SF8RS2CA|           2020.12|           998.124|      NULL|     R|Dollars|        6|Business Data Col...|Industry by finan...|Sales (operating ...|Wood and Paper Pr...|Current prices|    Unadjusted|          NULL|\n",
            "+-------+----------------+------------------+------------------+----------+------+-------+---------+--------------------+--------------------+--------------------+--------------------+--------------+--------------+--------------+\n",
            "\n"
          ]
        }
      ],
      "source": [
        "df_p.describe().show()"
      ]
    },
    {
      "cell_type": "code",
      "execution_count": 32,
      "metadata": {
        "id": "K67X0HmbgOYa"
      },
      "outputs": [],
      "source": [
        "df_pandas = df_p.toPandas()"
      ]
    },
    {
      "cell_type": "code",
      "execution_count": 33,
      "metadata": {
        "scrolled": true,
        "colab": {
          "base_uri": "https://localhost:8080/",
          "height": 487
        },
        "id": "BTS6y9WBgOYa",
        "outputId": "93b61da8-1cf5-460f-ba2d-8b851869647a"
      },
      "outputs": [
        {
          "output_type": "execute_result",
          "data": {
            "text/plain": [
              "  Series_reference   Period Data_value Suppressed STATUS    UNITS Magnitude  \\\n",
              "0    BDCQ.SF1AA2CA  2016.06   1116.386       None      F  Dollars         6   \n",
              "1    BDCQ.SF1AA2CA  2016.09   1070.874       None      F  Dollars         6   \n",
              "2    BDCQ.SF1AA2CA  2016.12   1054.408       None      F  Dollars         6   \n",
              "3    BDCQ.SF1AA2CA  2017.03   1010.665       None      F  Dollars         6   \n",
              "4    BDCQ.SF1AA2CA  2017.06     1233.7       None      F  Dollars         6   \n",
              "\n",
              "                          Subject                           Group  \\\n",
              "0  Business Data Collection - BDC  Industry by financial variable   \n",
              "1  Business Data Collection - BDC  Industry by financial variable   \n",
              "2  Business Data Collection - BDC  Industry by financial variable   \n",
              "3  Business Data Collection - BDC  Industry by financial variable   \n",
              "4  Business Data Collection - BDC  Industry by financial variable   \n",
              "\n",
              "             Series_title_1        Series_title_2  Series_title_3  \\\n",
              "0  Sales (operating income)  Forestry and Logging  Current prices   \n",
              "1  Sales (operating income)  Forestry and Logging  Current prices   \n",
              "2  Sales (operating income)  Forestry and Logging  Current prices   \n",
              "3  Sales (operating income)  Forestry and Logging  Current prices   \n",
              "4  Sales (operating income)  Forestry and Logging  Current prices   \n",
              "\n",
              "  Series_title_4 Series_title_5  \n",
              "0     Unadjusted           None  \n",
              "1     Unadjusted           None  \n",
              "2     Unadjusted           None  \n",
              "3     Unadjusted           None  \n",
              "4     Unadjusted           None  "
            ],
            "text/html": [
              "\n",
              "  <div id=\"df-9c4fa70c-cd13-4bd1-b43c-383a998c5726\" class=\"colab-df-container\">\n",
              "    <div>\n",
              "<style scoped>\n",
              "    .dataframe tbody tr th:only-of-type {\n",
              "        vertical-align: middle;\n",
              "    }\n",
              "\n",
              "    .dataframe tbody tr th {\n",
              "        vertical-align: top;\n",
              "    }\n",
              "\n",
              "    .dataframe thead th {\n",
              "        text-align: right;\n",
              "    }\n",
              "</style>\n",
              "<table border=\"1\" class=\"dataframe\">\n",
              "  <thead>\n",
              "    <tr style=\"text-align: right;\">\n",
              "      <th></th>\n",
              "      <th>Series_reference</th>\n",
              "      <th>Period</th>\n",
              "      <th>Data_value</th>\n",
              "      <th>Suppressed</th>\n",
              "      <th>STATUS</th>\n",
              "      <th>UNITS</th>\n",
              "      <th>Magnitude</th>\n",
              "      <th>Subject</th>\n",
              "      <th>Group</th>\n",
              "      <th>Series_title_1</th>\n",
              "      <th>Series_title_2</th>\n",
              "      <th>Series_title_3</th>\n",
              "      <th>Series_title_4</th>\n",
              "      <th>Series_title_5</th>\n",
              "    </tr>\n",
              "  </thead>\n",
              "  <tbody>\n",
              "    <tr>\n",
              "      <th>0</th>\n",
              "      <td>BDCQ.SF1AA2CA</td>\n",
              "      <td>2016.06</td>\n",
              "      <td>1116.386</td>\n",
              "      <td>None</td>\n",
              "      <td>F</td>\n",
              "      <td>Dollars</td>\n",
              "      <td>6</td>\n",
              "      <td>Business Data Collection - BDC</td>\n",
              "      <td>Industry by financial variable</td>\n",
              "      <td>Sales (operating income)</td>\n",
              "      <td>Forestry and Logging</td>\n",
              "      <td>Current prices</td>\n",
              "      <td>Unadjusted</td>\n",
              "      <td>None</td>\n",
              "    </tr>\n",
              "    <tr>\n",
              "      <th>1</th>\n",
              "      <td>BDCQ.SF1AA2CA</td>\n",
              "      <td>2016.09</td>\n",
              "      <td>1070.874</td>\n",
              "      <td>None</td>\n",
              "      <td>F</td>\n",
              "      <td>Dollars</td>\n",
              "      <td>6</td>\n",
              "      <td>Business Data Collection - BDC</td>\n",
              "      <td>Industry by financial variable</td>\n",
              "      <td>Sales (operating income)</td>\n",
              "      <td>Forestry and Logging</td>\n",
              "      <td>Current prices</td>\n",
              "      <td>Unadjusted</td>\n",
              "      <td>None</td>\n",
              "    </tr>\n",
              "    <tr>\n",
              "      <th>2</th>\n",
              "      <td>BDCQ.SF1AA2CA</td>\n",
              "      <td>2016.12</td>\n",
              "      <td>1054.408</td>\n",
              "      <td>None</td>\n",
              "      <td>F</td>\n",
              "      <td>Dollars</td>\n",
              "      <td>6</td>\n",
              "      <td>Business Data Collection - BDC</td>\n",
              "      <td>Industry by financial variable</td>\n",
              "      <td>Sales (operating income)</td>\n",
              "      <td>Forestry and Logging</td>\n",
              "      <td>Current prices</td>\n",
              "      <td>Unadjusted</td>\n",
              "      <td>None</td>\n",
              "    </tr>\n",
              "    <tr>\n",
              "      <th>3</th>\n",
              "      <td>BDCQ.SF1AA2CA</td>\n",
              "      <td>2017.03</td>\n",
              "      <td>1010.665</td>\n",
              "      <td>None</td>\n",
              "      <td>F</td>\n",
              "      <td>Dollars</td>\n",
              "      <td>6</td>\n",
              "      <td>Business Data Collection - BDC</td>\n",
              "      <td>Industry by financial variable</td>\n",
              "      <td>Sales (operating income)</td>\n",
              "      <td>Forestry and Logging</td>\n",
              "      <td>Current prices</td>\n",
              "      <td>Unadjusted</td>\n",
              "      <td>None</td>\n",
              "    </tr>\n",
              "    <tr>\n",
              "      <th>4</th>\n",
              "      <td>BDCQ.SF1AA2CA</td>\n",
              "      <td>2017.06</td>\n",
              "      <td>1233.7</td>\n",
              "      <td>None</td>\n",
              "      <td>F</td>\n",
              "      <td>Dollars</td>\n",
              "      <td>6</td>\n",
              "      <td>Business Data Collection - BDC</td>\n",
              "      <td>Industry by financial variable</td>\n",
              "      <td>Sales (operating income)</td>\n",
              "      <td>Forestry and Logging</td>\n",
              "      <td>Current prices</td>\n",
              "      <td>Unadjusted</td>\n",
              "      <td>None</td>\n",
              "    </tr>\n",
              "  </tbody>\n",
              "</table>\n",
              "</div>\n",
              "    <div class=\"colab-df-buttons\">\n",
              "\n",
              "  <div class=\"colab-df-container\">\n",
              "    <button class=\"colab-df-convert\" onclick=\"convertToInteractive('df-9c4fa70c-cd13-4bd1-b43c-383a998c5726')\"\n",
              "            title=\"Convert this dataframe to an interactive table.\"\n",
              "            style=\"display:none;\">\n",
              "\n",
              "  <svg xmlns=\"http://www.w3.org/2000/svg\" height=\"24px\" viewBox=\"0 -960 960 960\">\n",
              "    <path d=\"M120-120v-720h720v720H120Zm60-500h600v-160H180v160Zm220 220h160v-160H400v160Zm0 220h160v-160H400v160ZM180-400h160v-160H180v160Zm440 0h160v-160H620v160ZM180-180h160v-160H180v160Zm440 0h160v-160H620v160Z\"/>\n",
              "  </svg>\n",
              "    </button>\n",
              "\n",
              "  <style>\n",
              "    .colab-df-container {\n",
              "      display:flex;\n",
              "      gap: 12px;\n",
              "    }\n",
              "\n",
              "    .colab-df-convert {\n",
              "      background-color: #E8F0FE;\n",
              "      border: none;\n",
              "      border-radius: 50%;\n",
              "      cursor: pointer;\n",
              "      display: none;\n",
              "      fill: #1967D2;\n",
              "      height: 32px;\n",
              "      padding: 0 0 0 0;\n",
              "      width: 32px;\n",
              "    }\n",
              "\n",
              "    .colab-df-convert:hover {\n",
              "      background-color: #E2EBFA;\n",
              "      box-shadow: 0px 1px 2px rgba(60, 64, 67, 0.3), 0px 1px 3px 1px rgba(60, 64, 67, 0.15);\n",
              "      fill: #174EA6;\n",
              "    }\n",
              "\n",
              "    .colab-df-buttons div {\n",
              "      margin-bottom: 4px;\n",
              "    }\n",
              "\n",
              "    [theme=dark] .colab-df-convert {\n",
              "      background-color: #3B4455;\n",
              "      fill: #D2E3FC;\n",
              "    }\n",
              "\n",
              "    [theme=dark] .colab-df-convert:hover {\n",
              "      background-color: #434B5C;\n",
              "      box-shadow: 0px 1px 3px 1px rgba(0, 0, 0, 0.15);\n",
              "      filter: drop-shadow(0px 1px 2px rgba(0, 0, 0, 0.3));\n",
              "      fill: #FFFFFF;\n",
              "    }\n",
              "  </style>\n",
              "\n",
              "    <script>\n",
              "      const buttonEl =\n",
              "        document.querySelector('#df-9c4fa70c-cd13-4bd1-b43c-383a998c5726 button.colab-df-convert');\n",
              "      buttonEl.style.display =\n",
              "        google.colab.kernel.accessAllowed ? 'block' : 'none';\n",
              "\n",
              "      async function convertToInteractive(key) {\n",
              "        const element = document.querySelector('#df-9c4fa70c-cd13-4bd1-b43c-383a998c5726');\n",
              "        const dataTable =\n",
              "          await google.colab.kernel.invokeFunction('convertToInteractive',\n",
              "                                                    [key], {});\n",
              "        if (!dataTable) return;\n",
              "\n",
              "        const docLinkHtml = 'Like what you see? Visit the ' +\n",
              "          '<a target=\"_blank\" href=https://colab.research.google.com/notebooks/data_table.ipynb>data table notebook</a>'\n",
              "          + ' to learn more about interactive tables.';\n",
              "        element.innerHTML = '';\n",
              "        dataTable['output_type'] = 'display_data';\n",
              "        await google.colab.output.renderOutput(dataTable, element);\n",
              "        const docLink = document.createElement('div');\n",
              "        docLink.innerHTML = docLinkHtml;\n",
              "        element.appendChild(docLink);\n",
              "      }\n",
              "    </script>\n",
              "  </div>\n",
              "\n",
              "\n",
              "<div id=\"df-0dfa6a61-274f-45a0-b5ec-b0dd8316a79f\">\n",
              "  <button class=\"colab-df-quickchart\" onclick=\"quickchart('df-0dfa6a61-274f-45a0-b5ec-b0dd8316a79f')\"\n",
              "            title=\"Suggest charts\"\n",
              "            style=\"display:none;\">\n",
              "\n",
              "<svg xmlns=\"http://www.w3.org/2000/svg\" height=\"24px\"viewBox=\"0 0 24 24\"\n",
              "     width=\"24px\">\n",
              "    <g>\n",
              "        <path d=\"M19 3H5c-1.1 0-2 .9-2 2v14c0 1.1.9 2 2 2h14c1.1 0 2-.9 2-2V5c0-1.1-.9-2-2-2zM9 17H7v-7h2v7zm4 0h-2V7h2v10zm4 0h-2v-4h2v4z\"/>\n",
              "    </g>\n",
              "</svg>\n",
              "  </button>\n",
              "\n",
              "<style>\n",
              "  .colab-df-quickchart {\n",
              "      --bg-color: #E8F0FE;\n",
              "      --fill-color: #1967D2;\n",
              "      --hover-bg-color: #E2EBFA;\n",
              "      --hover-fill-color: #174EA6;\n",
              "      --disabled-fill-color: #AAA;\n",
              "      --disabled-bg-color: #DDD;\n",
              "  }\n",
              "\n",
              "  [theme=dark] .colab-df-quickchart {\n",
              "      --bg-color: #3B4455;\n",
              "      --fill-color: #D2E3FC;\n",
              "      --hover-bg-color: #434B5C;\n",
              "      --hover-fill-color: #FFFFFF;\n",
              "      --disabled-bg-color: #3B4455;\n",
              "      --disabled-fill-color: #666;\n",
              "  }\n",
              "\n",
              "  .colab-df-quickchart {\n",
              "    background-color: var(--bg-color);\n",
              "    border: none;\n",
              "    border-radius: 50%;\n",
              "    cursor: pointer;\n",
              "    display: none;\n",
              "    fill: var(--fill-color);\n",
              "    height: 32px;\n",
              "    padding: 0;\n",
              "    width: 32px;\n",
              "  }\n",
              "\n",
              "  .colab-df-quickchart:hover {\n",
              "    background-color: var(--hover-bg-color);\n",
              "    box-shadow: 0 1px 2px rgba(60, 64, 67, 0.3), 0 1px 3px 1px rgba(60, 64, 67, 0.15);\n",
              "    fill: var(--button-hover-fill-color);\n",
              "  }\n",
              "\n",
              "  .colab-df-quickchart-complete:disabled,\n",
              "  .colab-df-quickchart-complete:disabled:hover {\n",
              "    background-color: var(--disabled-bg-color);\n",
              "    fill: var(--disabled-fill-color);\n",
              "    box-shadow: none;\n",
              "  }\n",
              "\n",
              "  .colab-df-spinner {\n",
              "    border: 2px solid var(--fill-color);\n",
              "    border-color: transparent;\n",
              "    border-bottom-color: var(--fill-color);\n",
              "    animation:\n",
              "      spin 1s steps(1) infinite;\n",
              "  }\n",
              "\n",
              "  @keyframes spin {\n",
              "    0% {\n",
              "      border-color: transparent;\n",
              "      border-bottom-color: var(--fill-color);\n",
              "      border-left-color: var(--fill-color);\n",
              "    }\n",
              "    20% {\n",
              "      border-color: transparent;\n",
              "      border-left-color: var(--fill-color);\n",
              "      border-top-color: var(--fill-color);\n",
              "    }\n",
              "    30% {\n",
              "      border-color: transparent;\n",
              "      border-left-color: var(--fill-color);\n",
              "      border-top-color: var(--fill-color);\n",
              "      border-right-color: var(--fill-color);\n",
              "    }\n",
              "    40% {\n",
              "      border-color: transparent;\n",
              "      border-right-color: var(--fill-color);\n",
              "      border-top-color: var(--fill-color);\n",
              "    }\n",
              "    60% {\n",
              "      border-color: transparent;\n",
              "      border-right-color: var(--fill-color);\n",
              "    }\n",
              "    80% {\n",
              "      border-color: transparent;\n",
              "      border-right-color: var(--fill-color);\n",
              "      border-bottom-color: var(--fill-color);\n",
              "    }\n",
              "    90% {\n",
              "      border-color: transparent;\n",
              "      border-bottom-color: var(--fill-color);\n",
              "    }\n",
              "  }\n",
              "</style>\n",
              "\n",
              "  <script>\n",
              "    async function quickchart(key) {\n",
              "      const quickchartButtonEl =\n",
              "        document.querySelector('#' + key + ' button');\n",
              "      quickchartButtonEl.disabled = true;  // To prevent multiple clicks.\n",
              "      quickchartButtonEl.classList.add('colab-df-spinner');\n",
              "      try {\n",
              "        const charts = await google.colab.kernel.invokeFunction(\n",
              "            'suggestCharts', [key], {});\n",
              "      } catch (error) {\n",
              "        console.error('Error during call to suggestCharts:', error);\n",
              "      }\n",
              "      quickchartButtonEl.classList.remove('colab-df-spinner');\n",
              "      quickchartButtonEl.classList.add('colab-df-quickchart-complete');\n",
              "    }\n",
              "    (() => {\n",
              "      let quickchartButtonEl =\n",
              "        document.querySelector('#df-0dfa6a61-274f-45a0-b5ec-b0dd8316a79f button');\n",
              "      quickchartButtonEl.style.display =\n",
              "        google.colab.kernel.accessAllowed ? 'block' : 'none';\n",
              "    })();\n",
              "  </script>\n",
              "</div>\n",
              "    </div>\n",
              "  </div>\n"
            ]
          },
          "metadata": {},
          "execution_count": 33
        }
      ],
      "source": [
        "df_pandas.head()"
      ]
    },
    {
      "cell_type": "code",
      "execution_count": 34,
      "metadata": {
        "id": "EuzgIQqBgOYa"
      },
      "outputs": [],
      "source": [
        "# spark.stop()"
      ]
    },
    {
      "cell_type": "markdown",
      "metadata": {
        "id": "TbAfFDjgKIcG"
      },
      "source": [
        "# Curso Big Data #3 - Transformaciones en columnas en PySpark"
      ]
    },
    {
      "cell_type": "code",
      "execution_count": 35,
      "metadata": {
        "id": "GtlKKcjmKIcI"
      },
      "outputs": [],
      "source": [
        "import findspark\n",
        "findspark.init()"
      ]
    },
    {
      "cell_type": "code",
      "execution_count": 36,
      "metadata": {
        "id": "iCegqIIQKIcJ"
      },
      "outputs": [],
      "source": [
        "from pyspark.sql import SparkSession"
      ]
    },
    {
      "cell_type": "markdown",
      "metadata": {
        "id": "NdH8D5CtKIcK"
      },
      "source": [
        "### 1. Crear la SparkSession"
      ]
    },
    {
      "cell_type": "code",
      "execution_count": 37,
      "metadata": {
        "id": "G2NOE-J9KIcL"
      },
      "outputs": [],
      "source": [
        "spark = SparkSession.builder.appName('columnsTransform').getOrCreate()"
      ]
    },
    {
      "cell_type": "markdown",
      "metadata": {
        "id": "r4YZVT7HKIcM"
      },
      "source": [
        "### 2. Lectura parquet"
      ]
    },
    {
      "cell_type": "code",
      "execution_count": 38,
      "metadata": {
        "id": "hKj2cZ0wKIcN"
      },
      "outputs": [],
      "source": [
        "df = spark.read.parquet('parquet_example')"
      ]
    },
    {
      "cell_type": "code",
      "execution_count": 39,
      "metadata": {
        "id": "cPVx6Ml4KIcN",
        "outputId": "45cb062e-9eac-4937-e5d3-6e6994d8400e",
        "colab": {
          "base_uri": "https://localhost:8080/"
        }
      },
      "outputs": [
        {
          "output_type": "stream",
          "name": "stdout",
          "text": [
            "+----------------+-------+----------+----------+------+-------+---------+--------------------+--------------------+--------------------+--------------------+--------------+--------------+--------------+\n",
            "|Series_reference| Period|Data_value|Suppressed|STATUS|  UNITS|Magnitude|             Subject|               Group|      Series_title_1|      Series_title_2|Series_title_3|Series_title_4|Series_title_5|\n",
            "+----------------+-------+----------+----------+------+-------+---------+--------------------+--------------------+--------------------+--------------------+--------------+--------------+--------------+\n",
            "|   BDCQ.SF1AA2CA|2016.06|  1116.386|      NULL|     F|Dollars|        6|Business Data Col...|Industry by finan...|Sales (operating ...|Forestry and Logging|Current prices|    Unadjusted|          NULL|\n",
            "|   BDCQ.SF1AA2CA|2016.09|  1070.874|      NULL|     F|Dollars|        6|Business Data Col...|Industry by finan...|Sales (operating ...|Forestry and Logging|Current prices|    Unadjusted|          NULL|\n",
            "+----------------+-------+----------+----------+------+-------+---------+--------------------+--------------------+--------------------+--------------------+--------------+--------------+--------------+\n",
            "only showing top 2 rows\n",
            "\n"
          ]
        }
      ],
      "source": [
        "df.show(2)"
      ]
    },
    {
      "cell_type": "code",
      "execution_count": 40,
      "metadata": {
        "scrolled": false,
        "id": "TRiBEzkaKIcO",
        "outputId": "d6a4d62c-3ea1-42d3-c9ed-6b5611e814f8",
        "colab": {
          "base_uri": "https://localhost:8080/"
        }
      },
      "outputs": [
        {
          "output_type": "stream",
          "name": "stdout",
          "text": [
            "root\n",
            " |-- Series_reference: string (nullable = true)\n",
            " |-- Period: string (nullable = true)\n",
            " |-- Data_value: string (nullable = true)\n",
            " |-- Suppressed: string (nullable = true)\n",
            " |-- STATUS: string (nullable = true)\n",
            " |-- UNITS: string (nullable = true)\n",
            " |-- Magnitude: string (nullable = true)\n",
            " |-- Subject: string (nullable = true)\n",
            " |-- Group: string (nullable = true)\n",
            " |-- Series_title_1: string (nullable = true)\n",
            " |-- Series_title_2: string (nullable = true)\n",
            " |-- Series_title_3: string (nullable = true)\n",
            " |-- Series_title_4: string (nullable = true)\n",
            " |-- Series_title_5: string (nullable = true)\n",
            "\n"
          ]
        }
      ],
      "source": [
        "df.printSchema()"
      ]
    },
    {
      "cell_type": "markdown",
      "metadata": {
        "id": "zqfHeONFKIcP"
      },
      "source": [
        "### 3. Operaciones simples sobre columnas"
      ]
    },
    {
      "cell_type": "markdown",
      "metadata": {
        "id": "zghRhklKKIcP"
      },
      "source": [
        "#### 3.1 Selección de columnas"
      ]
    },
    {
      "cell_type": "code",
      "execution_count": 41,
      "metadata": {
        "id": "-7Znu_IxKIcP"
      },
      "outputs": [],
      "source": [
        "sel_cols = ['Series_title_1', 'Series_title_2', 'Series_title_3', 'Series_title_4', 'Series_title_5']\n",
        "df_sel = df.select(sel_cols)"
      ]
    },
    {
      "cell_type": "code",
      "execution_count": 42,
      "metadata": {
        "id": "dzC3TUk3KIcQ",
        "outputId": "b6b98750-a4dd-4041-b624-0f3b8ffa649b",
        "colab": {
          "base_uri": "https://localhost:8080/"
        }
      },
      "outputs": [
        {
          "output_type": "stream",
          "name": "stdout",
          "text": [
            "+--------------------+--------------------+--------------+--------------+--------------+\n",
            "|      Series_title_1|      Series_title_2|Series_title_3|Series_title_4|Series_title_5|\n",
            "+--------------------+--------------------+--------------+--------------+--------------+\n",
            "|Sales (operating ...|Forestry and Logging|Current prices|    Unadjusted|          NULL|\n",
            "|Sales (operating ...|Forestry and Logging|Current prices|    Unadjusted|          NULL|\n",
            "|Sales (operating ...|Forestry and Logging|Current prices|    Unadjusted|          NULL|\n",
            "|Sales (operating ...|Forestry and Logging|Current prices|    Unadjusted|          NULL|\n",
            "|Sales (operating ...|Forestry and Logging|Current prices|    Unadjusted|          NULL|\n",
            "+--------------------+--------------------+--------------+--------------+--------------+\n",
            "only showing top 5 rows\n",
            "\n"
          ]
        }
      ],
      "source": [
        "df_sel.show(5)"
      ]
    },
    {
      "cell_type": "markdown",
      "metadata": {
        "id": "36-GU45GKIcQ"
      },
      "source": [
        "Otro método"
      ]
    },
    {
      "cell_type": "code",
      "execution_count": 43,
      "metadata": {
        "scrolled": true,
        "id": "RGb76lupKIcQ",
        "outputId": "d5d4eea3-7f79-48db-b6f2-5c750239e981",
        "colab": {
          "base_uri": "https://localhost:8080/"
        }
      },
      "outputs": [
        {
          "output_type": "stream",
          "name": "stdout",
          "text": [
            "+--------------------+--------------------+--------------+--------------+--------------+\n",
            "|      Series_title_1|      Series_title_2|Series_title_3|Series_title_4|Series_title_5|\n",
            "+--------------------+--------------------+--------------+--------------+--------------+\n",
            "|Sales (operating ...|Forestry and Logging|Current prices|    Unadjusted|          NULL|\n",
            "|Sales (operating ...|Forestry and Logging|Current prices|    Unadjusted|          NULL|\n",
            "|Sales (operating ...|Forestry and Logging|Current prices|    Unadjusted|          NULL|\n",
            "|Sales (operating ...|Forestry and Logging|Current prices|    Unadjusted|          NULL|\n",
            "|Sales (operating ...|Forestry and Logging|Current prices|    Unadjusted|          NULL|\n",
            "+--------------------+--------------------+--------------+--------------+--------------+\n",
            "only showing top 5 rows\n",
            "\n"
          ]
        }
      ],
      "source": [
        "df[sel_cols].show(5)"
      ]
    },
    {
      "cell_type": "markdown",
      "metadata": {
        "id": "pIQ__Y93KIcR"
      },
      "source": [
        "#### 3.2 Renombrar una columna"
      ]
    },
    {
      "cell_type": "code",
      "execution_count": 44,
      "metadata": {
        "id": "w1pzEd1bKIcR",
        "outputId": "403bdaa4-5138-463a-e9bc-bbfedc9f72d2",
        "colab": {
          "base_uri": "https://localhost:8080/"
        }
      },
      "outputs": [
        {
          "output_type": "stream",
          "name": "stdout",
          "text": [
            "+--------------------+--------------------+--------------+--------------+--------------+\n",
            "|                ST_1|      Series_title_2|Series_title_3|Series_title_4|Series_title_5|\n",
            "+--------------------+--------------------+--------------+--------------+--------------+\n",
            "|Sales (operating ...|Forestry and Logging|Current prices|    Unadjusted|          NULL|\n",
            "|Sales (operating ...|Forestry and Logging|Current prices|    Unadjusted|          NULL|\n",
            "|Sales (operating ...|Forestry and Logging|Current prices|    Unadjusted|          NULL|\n",
            "|Sales (operating ...|Forestry and Logging|Current prices|    Unadjusted|          NULL|\n",
            "|Sales (operating ...|Forestry and Logging|Current prices|    Unadjusted|          NULL|\n",
            "+--------------------+--------------------+--------------+--------------+--------------+\n",
            "only showing top 5 rows\n",
            "\n"
          ]
        }
      ],
      "source": [
        "df_sel.withColumnRenamed('Series_title_1', 'ST_1').show(5)"
      ]
    },
    {
      "cell_type": "code",
      "execution_count": 45,
      "metadata": {
        "id": "n0McHaR7KIcS",
        "outputId": "3d4c06f6-38a3-45a8-cc82-3b0d3547dda8",
        "colab": {
          "base_uri": "https://localhost:8080/"
        }
      },
      "outputs": [
        {
          "output_type": "stream",
          "name": "stdout",
          "text": [
            "+--------------------+--------------------+--------------+--------------+--------------+\n",
            "|      Series_title_1|      Series_title_2|Series_title_3|Series_title_4|Series_title_5|\n",
            "+--------------------+--------------------+--------------+--------------+--------------+\n",
            "|Sales (operating ...|Forestry and Logging|Current prices|    Unadjusted|          NULL|\n",
            "|Sales (operating ...|Forestry and Logging|Current prices|    Unadjusted|          NULL|\n",
            "|Sales (operating ...|Forestry and Logging|Current prices|    Unadjusted|          NULL|\n",
            "|Sales (operating ...|Forestry and Logging|Current prices|    Unadjusted|          NULL|\n",
            "|Sales (operating ...|Forestry and Logging|Current prices|    Unadjusted|          NULL|\n",
            "+--------------------+--------------------+--------------+--------------+--------------+\n",
            "only showing top 5 rows\n",
            "\n"
          ]
        }
      ],
      "source": [
        "df_sel.show(5)"
      ]
    },
    {
      "cell_type": "markdown",
      "metadata": {
        "id": "oeLHvfn3KIcS"
      },
      "source": [
        "#### 3.3 Ordenar DF"
      ]
    },
    {
      "cell_type": "markdown",
      "metadata": {
        "id": "OlYbbo5tKIcS"
      },
      "source": [
        "Ascendente"
      ]
    },
    {
      "cell_type": "code",
      "execution_count": 46,
      "metadata": {
        "scrolled": true,
        "id": "5Cm49DbUKIcS",
        "outputId": "cf31bea3-4e11-43e1-98e3-cd298edff4e3",
        "colab": {
          "base_uri": "https://localhost:8080/"
        }
      },
      "outputs": [
        {
          "output_type": "stream",
          "name": "stdout",
          "text": [
            "+----------+\n",
            "|Data_value|\n",
            "+----------+\n",
            "|  -398.194|\n",
            "|     -5.26|\n",
            "|   100.652|\n",
            "|  1001.875|\n",
            "|  1005.093|\n",
            "|  1006.126|\n",
            "|  1007.319|\n",
            "|  1007.684|\n",
            "|   101.353|\n",
            "|   101.504|\n",
            "+----------+\n",
            "only showing top 10 rows\n",
            "\n"
          ]
        }
      ],
      "source": [
        "df.sort('Data_value')[['Data_value']].show(10)"
      ]
    },
    {
      "cell_type": "markdown",
      "metadata": {
        "id": "8B6RO0YMKIcT"
      },
      "source": [
        "Descendente"
      ]
    },
    {
      "cell_type": "code",
      "execution_count": 47,
      "metadata": {
        "id": "lKW0_aaKKIcT"
      },
      "outputs": [],
      "source": [
        "from pyspark.sql import functions as F"
      ]
    },
    {
      "cell_type": "code",
      "execution_count": 48,
      "metadata": {
        "scrolled": true,
        "id": "UlVapxEmKIcT",
        "outputId": "b152295d-cf08-4d15-dcd5-537c14300407",
        "colab": {
          "base_uri": "https://localhost:8080/"
        }
      },
      "outputs": [
        {
          "output_type": "stream",
          "name": "stdout",
          "text": [
            "+----------+\n",
            "|Data_value|\n",
            "+----------+\n",
            "|   998.124|\n",
            "|  9979.557|\n",
            "|   997.972|\n",
            "|   997.046|\n",
            "|   991.864|\n",
            "|   991.021|\n",
            "|    99.474|\n",
            "|   989.697|\n",
            "|    988.82|\n",
            "|   987.553|\n",
            "+----------+\n",
            "only showing top 10 rows\n",
            "\n"
          ]
        }
      ],
      "source": [
        "df.sort(F.desc(\"Data_value\"))[['Data_value']].show(10)"
      ]
    },
    {
      "cell_type": "markdown",
      "metadata": {
        "id": "jU74EOMuKIcU"
      },
      "source": [
        "#### 3.4 Cambiar el tipo de la columna"
      ]
    },
    {
      "cell_type": "code",
      "execution_count": 49,
      "metadata": {
        "id": "UTBwFRr0KIcU"
      },
      "outputs": [],
      "source": [
        "from pyspark.sql.types import DoubleType, IntegerType, StringType"
      ]
    },
    {
      "cell_type": "markdown",
      "metadata": {
        "id": "RpiTXE_3KIcU"
      },
      "source": [
        "Creamos una nueva columna con el tipo nuevo"
      ]
    },
    {
      "cell_type": "code",
      "execution_count": 50,
      "metadata": {
        "id": "57L0Ox1EKIcU"
      },
      "outputs": [],
      "source": [
        "df = df.withColumn('Data_value_int', F.col('Data_value').cast(DoubleType()))"
      ]
    },
    {
      "cell_type": "code",
      "execution_count": 51,
      "metadata": {
        "id": "c_xmcM8XKIcU",
        "outputId": "7b76eec5-db0b-4a65-92a3-4e5dc820d3ca",
        "colab": {
          "base_uri": "https://localhost:8080/"
        }
      },
      "outputs": [
        {
          "output_type": "stream",
          "name": "stdout",
          "text": [
            "+----------------+-------+----------+----------+------+-------+---------+--------------------+--------------------+--------------------+--------------------+--------------+--------------+--------------+--------------+\n",
            "|Series_reference| Period|Data_value|Suppressed|STATUS|  UNITS|Magnitude|             Subject|               Group|      Series_title_1|      Series_title_2|Series_title_3|Series_title_4|Series_title_5|Data_value_int|\n",
            "+----------------+-------+----------+----------+------+-------+---------+--------------------+--------------------+--------------------+--------------------+--------------+--------------+--------------+--------------+\n",
            "|   BDCQ.SF1AA2CA|2016.06|  1116.386|      NULL|     F|Dollars|        6|Business Data Col...|Industry by finan...|Sales (operating ...|Forestry and Logging|Current prices|    Unadjusted|          NULL|      1116.386|\n",
            "|   BDCQ.SF1AA2CA|2016.09|  1070.874|      NULL|     F|Dollars|        6|Business Data Col...|Industry by finan...|Sales (operating ...|Forestry and Logging|Current prices|    Unadjusted|          NULL|      1070.874|\n",
            "|   BDCQ.SF1AA2CA|2016.12|  1054.408|      NULL|     F|Dollars|        6|Business Data Col...|Industry by finan...|Sales (operating ...|Forestry and Logging|Current prices|    Unadjusted|          NULL|      1054.408|\n",
            "|   BDCQ.SF1AA2CA|2017.03|  1010.665|      NULL|     F|Dollars|        6|Business Data Col...|Industry by finan...|Sales (operating ...|Forestry and Logging|Current prices|    Unadjusted|          NULL|      1010.665|\n",
            "|   BDCQ.SF1AA2CA|2017.06|    1233.7|      NULL|     F|Dollars|        6|Business Data Col...|Industry by finan...|Sales (operating ...|Forestry and Logging|Current prices|    Unadjusted|          NULL|        1233.7|\n",
            "+----------------+-------+----------+----------+------+-------+---------+--------------------+--------------------+--------------------+--------------------+--------------+--------------+--------------+--------------+\n",
            "only showing top 5 rows\n",
            "\n"
          ]
        }
      ],
      "source": [
        "df.show(5)"
      ]
    },
    {
      "cell_type": "code",
      "execution_count": 52,
      "metadata": {
        "id": "Y75JW6T6KIcV",
        "outputId": "bb45b438-ca10-4f38-ce3e-25b3b6caef4d",
        "colab": {
          "base_uri": "https://localhost:8080/"
        }
      },
      "outputs": [
        {
          "output_type": "stream",
          "name": "stdout",
          "text": [
            "root\n",
            " |-- Series_reference: string (nullable = true)\n",
            " |-- Period: string (nullable = true)\n",
            " |-- Data_value: string (nullable = true)\n",
            " |-- Suppressed: string (nullable = true)\n",
            " |-- STATUS: string (nullable = true)\n",
            " |-- UNITS: string (nullable = true)\n",
            " |-- Magnitude: string (nullable = true)\n",
            " |-- Subject: string (nullable = true)\n",
            " |-- Group: string (nullable = true)\n",
            " |-- Series_title_1: string (nullable = true)\n",
            " |-- Series_title_2: string (nullable = true)\n",
            " |-- Series_title_3: string (nullable = true)\n",
            " |-- Series_title_4: string (nullable = true)\n",
            " |-- Series_title_5: string (nullable = true)\n",
            " |-- Data_value_int: double (nullable = true)\n",
            "\n"
          ]
        }
      ],
      "source": [
        "df.printSchema()"
      ]
    },
    {
      "cell_type": "markdown",
      "metadata": {
        "id": "EIVTMb28KIcV"
      },
      "source": [
        "Ahora si podemos ordenar correctamente"
      ]
    },
    {
      "cell_type": "code",
      "execution_count": 53,
      "metadata": {
        "scrolled": true,
        "id": "cyQy4KZfKIcV",
        "outputId": "8172df0d-ef02-4048-ab8f-bfc29e489c4b",
        "colab": {
          "base_uri": "https://localhost:8080/"
        }
      },
      "outputs": [
        {
          "output_type": "stream",
          "name": "stdout",
          "text": [
            "+--------------+\n",
            "|Data_value_int|\n",
            "+--------------+\n",
            "|      -398.194|\n",
            "|         -5.26|\n",
            "|         8.274|\n",
            "|         8.413|\n",
            "|         9.411|\n",
            "|         21.14|\n",
            "|        22.619|\n",
            "|        23.376|\n",
            "|        24.071|\n",
            "|        28.332|\n",
            "+--------------+\n",
            "only showing top 10 rows\n",
            "\n"
          ]
        }
      ],
      "source": [
        "df.sort('Data_value_int')[['Data_value_int']].show(10)"
      ]
    },
    {
      "cell_type": "markdown",
      "metadata": {
        "id": "7jl8MHsxKIcW"
      },
      "source": [
        "#### 3.5 Aplicar filtros"
      ]
    },
    {
      "cell_type": "markdown",
      "metadata": {
        "id": "06lz0xPQKIcW"
      },
      "source": [
        "Simple"
      ]
    },
    {
      "cell_type": "code",
      "execution_count": 54,
      "metadata": {
        "id": "vn-CN7RYKIcW"
      },
      "outputs": [],
      "source": [
        "df_filter = df.filter(df.Data_value_int > 100)"
      ]
    },
    {
      "cell_type": "code",
      "execution_count": 55,
      "metadata": {
        "id": "yD4xh0J8KIcW",
        "outputId": "82ef7b21-48eb-4efe-eb13-4d7c555a71fa",
        "colab": {
          "base_uri": "https://localhost:8080/"
        }
      },
      "outputs": [
        {
          "output_type": "stream",
          "name": "stdout",
          "text": [
            "+----------------+-------+----------+----------+------+-------+---------+--------------------+--------------------+--------------------+--------------------+--------------+--------------+--------------+--------------+\n",
            "|Series_reference| Period|Data_value|Suppressed|STATUS|  UNITS|Magnitude|             Subject|               Group|      Series_title_1|      Series_title_2|Series_title_3|Series_title_4|Series_title_5|Data_value_int|\n",
            "+----------------+-------+----------+----------+------+-------+---------+--------------------+--------------------+--------------------+--------------------+--------------+--------------+--------------+--------------+\n",
            "|   BDCQ.SF1AA2CA|2016.06|  1116.386|      NULL|     F|Dollars|        6|Business Data Col...|Industry by finan...|Sales (operating ...|Forestry and Logging|Current prices|    Unadjusted|          NULL|      1116.386|\n",
            "|   BDCQ.SF1AA2CA|2016.09|  1070.874|      NULL|     F|Dollars|        6|Business Data Col...|Industry by finan...|Sales (operating ...|Forestry and Logging|Current prices|    Unadjusted|          NULL|      1070.874|\n",
            "|   BDCQ.SF1AA2CA|2016.12|  1054.408|      NULL|     F|Dollars|        6|Business Data Col...|Industry by finan...|Sales (operating ...|Forestry and Logging|Current prices|    Unadjusted|          NULL|      1054.408|\n",
            "|   BDCQ.SF1AA2CA|2017.03|  1010.665|      NULL|     F|Dollars|        6|Business Data Col...|Industry by finan...|Sales (operating ...|Forestry and Logging|Current prices|    Unadjusted|          NULL|      1010.665|\n",
            "|   BDCQ.SF1AA2CA|2017.06|    1233.7|      NULL|     F|Dollars|        6|Business Data Col...|Industry by finan...|Sales (operating ...|Forestry and Logging|Current prices|    Unadjusted|          NULL|        1233.7|\n",
            "+----------------+-------+----------+----------+------+-------+---------+--------------------+--------------------+--------------------+--------------------+--------------+--------------+--------------+--------------+\n",
            "only showing top 5 rows\n",
            "\n"
          ]
        }
      ],
      "source": [
        "df_filter.show(5)"
      ]
    },
    {
      "cell_type": "code",
      "execution_count": 56,
      "metadata": {
        "id": "CMOLc_mLKIcW",
        "outputId": "5bb8069c-4eff-4a05-a30e-a64f1bb2801a",
        "colab": {
          "base_uri": "https://localhost:8080/"
        }
      },
      "outputs": [
        {
          "output_type": "execute_result",
          "data": {
            "text/plain": [
              "(1936, 1838)"
            ]
          },
          "metadata": {},
          "execution_count": 56
        }
      ],
      "source": [
        "df.count(), df_filter.count()"
      ]
    },
    {
      "cell_type": "code",
      "execution_count": 57,
      "metadata": {
        "id": "iX28QTxAKIcW"
      },
      "outputs": [],
      "source": [
        "df_filter = df.filter('Data_value_int > 100')"
      ]
    },
    {
      "cell_type": "code",
      "execution_count": 58,
      "metadata": {
        "id": "N-DnzxStKIcX",
        "outputId": "62aa6be7-d79e-4bd1-ff34-6ae2253a8bea",
        "colab": {
          "base_uri": "https://localhost:8080/"
        }
      },
      "outputs": [
        {
          "output_type": "execute_result",
          "data": {
            "text/plain": [
              "(1936, 1838)"
            ]
          },
          "metadata": {},
          "execution_count": 58
        }
      ],
      "source": [
        "df.count(), df_filter.count()"
      ]
    },
    {
      "cell_type": "markdown",
      "metadata": {
        "id": "TLqlsoQ_KIcX"
      },
      "source": [
        "Varias columnas"
      ]
    },
    {
      "cell_type": "code",
      "execution_count": 59,
      "metadata": {
        "id": "_l3jkpqYKIcX"
      },
      "outputs": [],
      "source": [
        "df_filter = df.filter((df.Data_value_int > 100) & (df.STATUS == 'R'))"
      ]
    },
    {
      "cell_type": "code",
      "execution_count": 60,
      "metadata": {
        "id": "KsmzUXrVKIcX",
        "outputId": "c93f4581-eba4-47c9-f7c9-a0c2716a9b00",
        "colab": {
          "base_uri": "https://localhost:8080/"
        }
      },
      "outputs": [
        {
          "output_type": "stream",
          "name": "stdout",
          "text": [
            "+----------------+-------+----------+----------+------+-------+---------+--------------------+--------------------+--------------------+--------------------+--------------+--------------+--------------+--------------+\n",
            "|Series_reference| Period|Data_value|Suppressed|STATUS|  UNITS|Magnitude|             Subject|               Group|      Series_title_1|      Series_title_2|Series_title_3|Series_title_4|Series_title_5|Data_value_int|\n",
            "+----------------+-------+----------+----------+------+-------+---------+--------------------+--------------------+--------------------+--------------------+--------------+--------------+--------------+--------------+\n",
            "|   BDCQ.SF1FF1CA|2019.09| 28200.644|      NULL|     R|Dollars|        6|Business Data Col...|Industry by finan...|Sales (operating ...|     Wholesale Trade|Current prices|    Unadjusted|          NULL|     28200.644|\n",
            "|   BDCQ.SF1FF1CA|2020.09| 29794.725|      NULL|     R|Dollars|        6|Business Data Col...|Industry by finan...|Sales (operating ...|     Wholesale Trade|Current prices|    Unadjusted|          NULL|     29794.725|\n",
            "|   BDCQ.SF1II1CA|2016.06|  7024.368|      NULL|     R|Dollars|        6|Business Data Col...|Industry by finan...|Sales (operating ...|Transport, Postal...|Current prices|    Unadjusted|          NULL|      7024.368|\n",
            "|   BDCQ.SF1II1CA|2016.09|  7233.169|      NULL|     R|Dollars|        6|Business Data Col...|Industry by finan...|Sales (operating ...|Transport, Postal...|Current prices|    Unadjusted|          NULL|      7233.169|\n",
            "|   BDCQ.SF1MN1CA|2020.09| 11440.003|      NULL|     R|Dollars|        6|Business Data Col...|Industry by finan...|Sales (operating ...|Professional, Sci...|Current prices|    Unadjusted|          NULL|     11440.003|\n",
            "+----------------+-------+----------+----------+------+-------+---------+--------------------+--------------------+--------------------+--------------------+--------------+--------------+--------------+--------------+\n",
            "only showing top 5 rows\n",
            "\n"
          ]
        }
      ],
      "source": [
        "df_filter.show(5)"
      ]
    },
    {
      "cell_type": "code",
      "execution_count": 61,
      "metadata": {
        "id": "KcJa1yILKIcX",
        "outputId": "f5560d12-6ba0-45a8-9e39-804a01db0348",
        "colab": {
          "base_uri": "https://localhost:8080/"
        }
      },
      "outputs": [
        {
          "output_type": "execute_result",
          "data": {
            "text/plain": [
              "(1936, 20)"
            ]
          },
          "metadata": {},
          "execution_count": 61
        }
      ],
      "source": [
        "df.count(), df_filter.count()"
      ]
    },
    {
      "cell_type": "code",
      "execution_count": 62,
      "metadata": {
        "id": "mNAHSzGCKIcY"
      },
      "outputs": [],
      "source": [
        "df_filter = df.filter(\"Data_value_int > 100 and STATUS = 'R'\")"
      ]
    },
    {
      "cell_type": "code",
      "execution_count": 63,
      "metadata": {
        "id": "jO0JnPaRKIcY",
        "outputId": "cee19f3c-17f9-42f1-c39f-4c1b74f617e0",
        "colab": {
          "base_uri": "https://localhost:8080/"
        }
      },
      "outputs": [
        {
          "output_type": "execute_result",
          "data": {
            "text/plain": [
              "(1936, 20)"
            ]
          },
          "metadata": {},
          "execution_count": 63
        }
      ],
      "source": [
        "df.count(), df_filter.count()"
      ]
    },
    {
      "cell_type": "markdown",
      "metadata": {
        "id": "4JgNDhtyKIcY"
      },
      "source": [
        "#### 3.6 Separación de una columna (split)"
      ]
    },
    {
      "cell_type": "code",
      "execution_count": 64,
      "metadata": {
        "id": "lD2X4-bSKIcY"
      },
      "outputs": [],
      "source": [
        "df_year = df\\\n",
        ".withColumn('Year', F.split('Period', '\\.')[0].cast(IntegerType()))\\\n",
        ".withColumn('Month', F.split('Period', '\\.')[1].cast(IntegerType()))"
      ]
    },
    {
      "cell_type": "code",
      "execution_count": 65,
      "metadata": {
        "id": "CneKMe6IKIcZ",
        "outputId": "288d0d5e-99a3-4a85-b913-c8389c823073",
        "colab": {
          "base_uri": "https://localhost:8080/"
        }
      },
      "outputs": [
        {
          "output_type": "stream",
          "name": "stdout",
          "text": [
            "+----------------+-------+----------+----------+------+-------+---------+--------------------+--------------------+--------------------+--------------------+--------------+--------------+--------------+--------------+----+-----+\n",
            "|Series_reference| Period|Data_value|Suppressed|STATUS|  UNITS|Magnitude|             Subject|               Group|      Series_title_1|      Series_title_2|Series_title_3|Series_title_4|Series_title_5|Data_value_int|Year|Month|\n",
            "+----------------+-------+----------+----------+------+-------+---------+--------------------+--------------------+--------------------+--------------------+--------------+--------------+--------------+--------------+----+-----+\n",
            "|   BDCQ.SF1AA2CA|2016.06|  1116.386|      NULL|     F|Dollars|        6|Business Data Col...|Industry by finan...|Sales (operating ...|Forestry and Logging|Current prices|    Unadjusted|          NULL|      1116.386|2016|    6|\n",
            "|   BDCQ.SF1AA2CA|2016.09|  1070.874|      NULL|     F|Dollars|        6|Business Data Col...|Industry by finan...|Sales (operating ...|Forestry and Logging|Current prices|    Unadjusted|          NULL|      1070.874|2016|    9|\n",
            "|   BDCQ.SF1AA2CA|2016.12|  1054.408|      NULL|     F|Dollars|        6|Business Data Col...|Industry by finan...|Sales (operating ...|Forestry and Logging|Current prices|    Unadjusted|          NULL|      1054.408|2016|   12|\n",
            "|   BDCQ.SF1AA2CA|2017.03|  1010.665|      NULL|     F|Dollars|        6|Business Data Col...|Industry by finan...|Sales (operating ...|Forestry and Logging|Current prices|    Unadjusted|          NULL|      1010.665|2017|    3|\n",
            "|   BDCQ.SF1AA2CA|2017.06|    1233.7|      NULL|     F|Dollars|        6|Business Data Col...|Industry by finan...|Sales (operating ...|Forestry and Logging|Current prices|    Unadjusted|          NULL|        1233.7|2017|    6|\n",
            "+----------------+-------+----------+----------+------+-------+---------+--------------------+--------------------+--------------------+--------------------+--------------+--------------+--------------+--------------+----+-----+\n",
            "only showing top 5 rows\n",
            "\n"
          ]
        }
      ],
      "source": [
        "df_year.show(5)"
      ]
    }
  ],
  "metadata": {
    "kernelspec": {
      "display_name": "Python 3",
      "language": "python",
      "name": "python3"
    },
    "language_info": {
      "codemirror_mode": {
        "name": "ipython",
        "version": 3
      },
      "file_extension": ".py",
      "mimetype": "text/x-python",
      "name": "python",
      "nbconvert_exporter": "python",
      "pygments_lexer": "ipython3",
      "version": "3.6.8"
    },
    "colab": {
      "provenance": [],
      "include_colab_link": true
    }
  },
  "nbformat": 4,
  "nbformat_minor": 0
}